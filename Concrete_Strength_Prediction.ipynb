{
  "nbformat": 4,
  "nbformat_minor": 0,
  "metadata": {
    "colab": {
      "provenance": [],
      "toc_visible": true,
      "include_colab_link": true
    },
    "kernelspec": {
      "name": "python3",
      "display_name": "Python 3"
    },
    "language_info": {
      "name": "python"
    }
  },
  "cells": [
    {
      "cell_type": "markdown",
      "metadata": {
        "id": "view-in-github",
        "colab_type": "text"
      },
      "source": [
        "<a href=\"https://colab.research.google.com/github/mssomie/Deep-Neural-Network/blob/main/Concrete_Strength_Prediction.ipynb\" target=\"_parent\"><img src=\"https://colab.research.google.com/assets/colab-badge.svg\" alt=\"Open In Colab\"/></a>"
      ]
    },
    {
      "cell_type": "markdown",
      "source": [
        "# Building an Artificial Neural Network from Scratch\n"
      ],
      "metadata": {
        "id": "EdlChBp1ihRA"
      }
    },
    {
      "cell_type": "code",
      "source": [
        "import random\n",
        "import numpy as np"
      ],
      "metadata": {
        "id": "iP6IgpE8A1_r"
      },
      "execution_count": null,
      "outputs": []
    },
    {
      "cell_type": "markdown",
      "source": [
        "# Define activation functions"
      ],
      "metadata": {
        "id": "7MYnIjCqwA1l"
      }
    },
    {
      "cell_type": "markdown",
      "source": [
        "Logistics Function"
      ],
      "metadata": {
        "id": "ne6tJwmQvJme"
      }
    },
    {
      "cell_type": "code",
      "execution_count": null,
      "metadata": {
        "id": "R54uOkU6iMFI"
      },
      "outputs": [],
      "source": [
        "def logisitics_function (x):\n",
        "  return 1/(1+np.exp(-x))\n"
      ]
    },
    {
      "cell_type": "markdown",
      "source": [
        "RELU Function\n"
      ],
      "metadata": {
        "id": "d-KiRsQEvbnT"
      }
    },
    {
      "cell_type": "code",
      "source": [
        "def RELU(x):\n",
        "  return max(0,x)"
      ],
      "metadata": {
        "id": "__XJ4eiLvfIi"
      },
      "execution_count": null,
      "outputs": []
    },
    {
      "cell_type": "markdown",
      "source": [
        "Hyperbolic Function"
      ],
      "metadata": {
        "id": "a6qH79ZDvhBp"
      }
    },
    {
      "cell_type": "code",
      "source": [
        "def hyberbolic_tangent(x):\n",
        "    function = (np.exp(x)-np.exp(-x))/(np.exp(x)+np.exp(-x))\n",
        "    derivative = 1 - function ** 2\n",
        "    return function, derivative"
      ],
      "metadata": {
        "id": "lsArSz1shSKo"
      },
      "execution_count": null,
      "outputs": []
    },
    {
      "cell_type": "code",
      "source": [
        "print(logisitics_function(10))\n",
        "print(RELU(10))\n",
        "print(hyberbolic_tangent(10))"
      ],
      "metadata": {
        "colab": {
          "base_uri": "https://localhost:8080/"
        },
        "id": "ZHzM-Cb9voo4",
        "outputId": "5c0a73fc-1b9f-4401-8192-a65aa3e959ea"
      },
      "execution_count": null,
      "outputs": [
        {
          "output_type": "stream",
          "name": "stdout",
          "text": [
            "0.9999546021312976\n",
            "10\n",
            "(0.9999999958776926, 8.244614768671e-09)\n"
          ]
        }
      ]
    },
    {
      "cell_type": "markdown",
      "source": [
        "# Network\n"
      ],
      "metadata": {
        "id": "pjAkg3rIv0WK"
      }
    },
    {
      "cell_type": "code",
      "source": [
        "# TODO: fix for multiple hidden layers\n",
        "class Multilayer_perceptron:\n",
        "\n",
        "   # Initialize ANN\n",
        "   def __init__(self, hidden_layer_neurons, activation_function, weight, bias, input_layer_neurons=8,  output_layer_neuron=1, bias_input =1):\n",
        "       self.input_layer_neurons = input_layer_neurons\n",
        "       self.hidden_layer_neurons = hidden_layer_neurons\n",
        "       self.output_layer_neuron = output_layer_neuron\n",
        "\n",
        "       self.activation_function = activation_function\n",
        "\n",
        "       # Input layer to hidden layer\n",
        "       self.weight = np.random.rand(hidden_layer_neurons,input_layer_neurons)\n",
        "       self.bias = np.random.rand(hidden_layer_neurons,bias_input)\n",
        "\n",
        "\n",
        "       # Hidden layer to output layer\n",
        "       self.hweight = np.random.rand(output_layer_neuron,hidden_layer_neurons)\n",
        "       self.hbias = np.random.rand(output_layer_neuron,bias_input)\n",
        "\n",
        "   def forward_pass(self, input):\n",
        "       # using Z = Wx + b\n",
        "\n",
        "        z_hidden = np.dot(self.weight,input) + self.bias\n",
        "        output_hidden= self.activation(z_hidden, self.activation_function)\n",
        "\n",
        "        z_output = np.dot(self.hweight,input) + self.hbias\n",
        "        output_final = self.activation(z_output, self.activation_function)\n",
        "\n",
        "        return output_final\n"
      ],
      "metadata": {
        "id": "hE3H5PIyhcSv"
      },
      "execution_count": null,
      "outputs": []
    },
    {
      "cell_type": "code",
      "source": [],
      "metadata": {
        "id": "8vsTlAATh1AU"
      },
      "execution_count": null,
      "outputs": []
    }
  ]
}
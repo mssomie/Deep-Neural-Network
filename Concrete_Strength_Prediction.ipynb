{
  "nbformat": 4,
  "nbformat_minor": 0,
  "metadata": {
    "colab": {
      "provenance": [],
      "toc_visible": true,
      "authorship_tag": "ABX9TyN4a6Wgga/fZgMBXL9MW3GM",
      "include_colab_link": true
    },
    "kernelspec": {
      "name": "python3",
      "display_name": "Python 3"
    },
    "language_info": {
      "name": "python"
    }
  },
  "cells": [
    {
      "cell_type": "markdown",
      "metadata": {
        "id": "view-in-github",
        "colab_type": "text"
      },
      "source": [
        "<a href=\"https://colab.research.google.com/github/mssomie/Deep-Neural-Network/blob/main/Concrete_Strength_Prediction.ipynb\" target=\"_parent\"><img src=\"https://colab.research.google.com/assets/colab-badge.svg\" alt=\"Open In Colab\"/></a>"
      ]
    },
    {
      "cell_type": "markdown",
      "source": [
        "Building an Artificial Neural Network from Scratch\n"
      ],
      "metadata": {
        "id": "EdlChBp1ihRA"
      }
    },
    {
      "cell_type": "markdown",
      "source": [
        "Define activation functions"
      ],
      "metadata": {
        "id": "7MYnIjCqwA1l"
      }
    },
    {
      "cell_type": "markdown",
      "source": [
        "Logistics Function"
      ],
      "metadata": {
        "id": "ne6tJwmQvJme"
      }
    },
    {
      "cell_type": "code",
      "execution_count": null,
      "metadata": {
        "id": "R54uOkU6iMFI"
      },
      "outputs": [],
      "source": [
        "def logisitics_function (x):\n",
        ""
      ]
    },
    {
      "cell_type": "markdown",
      "source": [
        "RELU Function\n"
      ],
      "metadata": {
        "id": "d-KiRsQEvbnT"
      }
    },
    {
      "cell_type": "code",
      "source": [],
      "metadata": {
        "id": "__XJ4eiLvfIi"
      },
      "execution_count": null,
      "outputs": []
    },
    {
      "cell_type": "markdown",
      "source": [
        "Hyperbolic Function"
      ],
      "metadata": {
        "id": "a6qH79ZDvhBp"
      }
    },
    {
      "cell_type": "code",
      "source": [],
      "metadata": {
        "id": "ZHzM-Cb9voo4"
      },
      "execution_count": null,
      "outputs": []
    },
    {
      "cell_type": "markdown",
      "source": [
        "Layers"
      ],
      "metadata": {
        "id": "pjAkg3rIv0WK"
      }
    },
    {
      "cell_type": "code",
      "source": [],
      "metadata": {
        "id": "RJ0YkXJUvwIf"
      },
      "execution_count": null,
      "outputs": []
    },
    {
      "cell_type": "markdown",
      "source": [],
      "metadata": {
        "id": "LAnGOR-IvviR"
      }
    }
  ]
}